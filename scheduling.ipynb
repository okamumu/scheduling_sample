{
 "cells": [
  {
   "cell_type": "code",
   "execution_count": 1,
   "metadata": {},
   "outputs": [],
   "source": [
    "using CSV\n",
    "using DataFrames\n",
    "using Z3"
   ]
  },
  {
   "cell_type": "code",
   "execution_count": 29,
   "metadata": {},
   "outputs": [
    {
     "data": {
      "text/plain": [
       "maketable (generic function with 1 method)"
      ]
     },
     "metadata": {},
     "output_type": "display_data"
    }
   ],
   "source": [
    "\"\"\"\n",
    "nslot = 17 # 時間帯割り当て\n",
    "narea = 2 # エリア数\n",
    "requirenum = 1 # 必要人数\n",
    "totaltime = 15 # 最大割り当て時間（スロット数）\n",
    "totalswitch = 2 # 最大切り替え数\n",
    "\"\"\"\n",
    "\n",
    "function maketable(csvfile ;nslot = 17, narea = 2, requirenum = 1, totaltime = 15, totalswitch = 2)\n",
    "    ctx = Z3.Context()\n",
    "\n",
    "    cons = []\n",
    "    area = Dict()\n",
    "\n",
    "    df = CSV.read(csvfile, DataFrame)\n",
    "\n",
    "    nms = [(i,x) for (i,x) = enumerate(names(df)) if x != \"start\" && x != \"end\"] # 名前取得\n",
    "    println(nms)\n",
    "\n",
    "    for (i,nm) = nms\n",
    "        tmparea = []\n",
    "        for t = 1:nslot\n",
    "            x = Z3.int_const(ctx, \"var$(i)_$(t)\")\n",
    "            f = [Z3.int_const(ctx, \"area$(k)_$(i-2)_$(t)\") for k = 1:narea]\n",
    "            push!(tmparea, f)\n",
    "            for v = f\n",
    "                push!(cons, v >= 0) # 割り当て変数非負条件\n",
    "            end\n",
    "            push!(cons, sum(f) <= x) # 可能時間帯に高々一つの割り当て\n",
    "            if ismissing(df[t,i])\n",
    "                push!(cons, x == 1) # 無記入は「可能」\n",
    "            else\n",
    "                push!(cons, x == Int(df[t,i])) # 可能な時間帯の指定\n",
    "            end\n",
    "        end\n",
    "        area[nm] = tmparea\n",
    "    end\n",
    "\n",
    "    for t = 1:nslot\n",
    "        for k = 1:narea\n",
    "            tmp = Z3.int_val(ctx, 0)\n",
    "            for (_,xs) = area\n",
    "                tmp += xs[t][k]\n",
    "            end\n",
    "            push!(cons, tmp == requirenum) # 各時間帯で必要人数確保\n",
    "        end\n",
    "    end\n",
    "\n",
    "    for (nm,xs) = area\n",
    "        tmp = Z3.int_val(ctx, 0)\n",
    "        for x = xs\n",
    "            tmp += sum(x)\n",
    "        end\n",
    "        push!(cons, tmp <= totaltime) # 労働時間制限\n",
    "    end\n",
    "\n",
    "    for (nm,xs) = area\n",
    "        for k = 1:narea\n",
    "            tmp = Z3.int_val(ctx, 0)\n",
    "            for t = 1:nslot\n",
    "                if t == 1\n",
    "                    tmp += xs[t][k]\n",
    "                else\n",
    "                    tmp += abs(xs[t][k] - xs[t-1][k])\n",
    "                end\n",
    "            end\n",
    "            push!(cons, tmp <= totalswitch) # 場所替え数制約\n",
    "        end\n",
    "    end\n",
    "\n",
    "    solver = Z3.Solver(ctx)\n",
    "    for x = cons\n",
    "        add(solver, x)\n",
    "    end\n",
    "\n",
    "    res = Z3.check(solver)\n",
    "    if res == Z3.sat\n",
    "        m = Z3.get_model(solver)\n",
    "        result = Dict([\"$k\"=>Z3.get_numeral_int(v) for (k,v) = Z3.consts(m)])\n",
    "    else\n",
    "        error(\"No solution\")\n",
    "    end\n",
    "\n",
    "    table = Dict()\n",
    "    for (i,nm) = enumerate(keys(area))\n",
    "        tmp = []\n",
    "        for t = 1:nslot\n",
    "            u = [result[\"area$(k)_$(i)_$(t)\"] for k = 1:narea]\n",
    "            res = findfirst(x->x==1, u)\n",
    "            if isnothing(res)\n",
    "                push!(tmp, 0)\n",
    "            else\n",
    "                push!(tmp, res)\n",
    "            end\n",
    "        end\n",
    "        table[nm] = tmp\n",
    "    end\n",
    "    DataFrame(table)\n",
    "end"
   ]
  },
  {
   "cell_type": "code",
   "execution_count": 30,
   "metadata": {},
   "outputs": [
    {
     "name": "stdout",
     "output_type": "stream",
     "text": [
      "[(3, \"山田\"), (4, \"田中\"), (5, \"鈴木\"), (6, \"佐藤\")]\n"
     ]
    },
    {
     "data": {
      "text/html": [
       "<div><div style = \"float: left;\"><span>17×4 DataFrame</span></div><div style = \"clear: both;\"></div></div><div class = \"data-frame\" style = \"overflow-x: scroll;\"><table class = \"data-frame\" style = \"margin-bottom: 6px;\"><thead><tr class = \"header\"><th class = \"rowNumber\" style = \"font-weight: bold; text-align: right;\">Row</th><th style = \"text-align: left;\">佐藤</th><th style = \"text-align: left;\">山田</th><th style = \"text-align: left;\">田中</th><th style = \"text-align: left;\">鈴木</th></tr><tr class = \"subheader headerLastRow\"><th class = \"rowNumber\" style = \"font-weight: bold; text-align: right;\"></th><th title = \"Any\" style = \"text-align: left;\">Any</th><th title = \"Any\" style = \"text-align: left;\">Any</th><th title = \"Any\" style = \"text-align: left;\">Any</th><th title = \"Any\" style = \"text-align: left;\">Any</th></tr></thead><tbody><tr><td class = \"rowNumber\" style = \"font-weight: bold; text-align: right;\">1</td><td style = \"text-align: left;\">0</td><td style = \"text-align: left;\">0</td><td style = \"text-align: left;\">2</td><td style = \"text-align: left;\">1</td></tr><tr><td class = \"rowNumber\" style = \"font-weight: bold; text-align: right;\">2</td><td style = \"text-align: left;\">2</td><td style = \"text-align: left;\">1</td><td style = \"text-align: left;\">0</td><td style = \"text-align: left;\">0</td></tr><tr><td class = \"rowNumber\" style = \"font-weight: bold; text-align: right;\">3</td><td style = \"text-align: left;\">2</td><td style = \"text-align: left;\">1</td><td style = \"text-align: left;\">0</td><td style = \"text-align: left;\">0</td></tr><tr><td class = \"rowNumber\" style = \"font-weight: bold; text-align: right;\">4</td><td style = \"text-align: left;\">1</td><td style = \"text-align: left;\">2</td><td style = \"text-align: left;\">0</td><td style = \"text-align: left;\">0</td></tr><tr><td class = \"rowNumber\" style = \"font-weight: bold; text-align: right;\">5</td><td style = \"text-align: left;\">0</td><td style = \"text-align: left;\">2</td><td style = \"text-align: left;\">1</td><td style = \"text-align: left;\">0</td></tr><tr><td class = \"rowNumber\" style = \"font-weight: bold; text-align: right;\">6</td><td style = \"text-align: left;\">0</td><td style = \"text-align: left;\">0</td><td style = \"text-align: left;\">1</td><td style = \"text-align: left;\">2</td></tr><tr><td class = \"rowNumber\" style = \"font-weight: bold; text-align: right;\">7</td><td style = \"text-align: left;\">0</td><td style = \"text-align: left;\">0</td><td style = \"text-align: left;\">1</td><td style = \"text-align: left;\">2</td></tr><tr><td class = \"rowNumber\" style = \"font-weight: bold; text-align: right;\">8</td><td style = \"text-align: left;\">0</td><td style = \"text-align: left;\">0</td><td style = \"text-align: left;\">1</td><td style = \"text-align: left;\">2</td></tr><tr><td class = \"rowNumber\" style = \"font-weight: bold; text-align: right;\">9</td><td style = \"text-align: left;\">0</td><td style = \"text-align: left;\">0</td><td style = \"text-align: left;\">1</td><td style = \"text-align: left;\">2</td></tr><tr><td class = \"rowNumber\" style = \"font-weight: bold; text-align: right;\">10</td><td style = \"text-align: left;\">0</td><td style = \"text-align: left;\">0</td><td style = \"text-align: left;\">1</td><td style = \"text-align: left;\">2</td></tr><tr><td class = \"rowNumber\" style = \"font-weight: bold; text-align: right;\">11</td><td style = \"text-align: left;\">0</td><td style = \"text-align: left;\">0</td><td style = \"text-align: left;\">1</td><td style = \"text-align: left;\">2</td></tr><tr><td class = \"rowNumber\" style = \"font-weight: bold; text-align: right;\">12</td><td style = \"text-align: left;\">0</td><td style = \"text-align: left;\">0</td><td style = \"text-align: left;\">1</td><td style = \"text-align: left;\">2</td></tr><tr><td class = \"rowNumber\" style = \"font-weight: bold; text-align: right;\">13</td><td style = \"text-align: left;\">0</td><td style = \"text-align: left;\">0</td><td style = \"text-align: left;\">1</td><td style = \"text-align: left;\">2</td></tr><tr><td class = \"rowNumber\" style = \"font-weight: bold; text-align: right;\">14</td><td style = \"text-align: left;\">0</td><td style = \"text-align: left;\">0</td><td style = \"text-align: left;\">1</td><td style = \"text-align: left;\">2</td></tr><tr><td class = \"rowNumber\" style = \"font-weight: bold; text-align: right;\">15</td><td style = \"text-align: left;\">0</td><td style = \"text-align: left;\">0</td><td style = \"text-align: left;\">1</td><td style = \"text-align: left;\">2</td></tr><tr><td class = \"rowNumber\" style = \"font-weight: bold; text-align: right;\">16</td><td style = \"text-align: left;\">0</td><td style = \"text-align: left;\">0</td><td style = \"text-align: left;\">1</td><td style = \"text-align: left;\">2</td></tr><tr><td class = \"rowNumber\" style = \"font-weight: bold; text-align: right;\">17</td><td style = \"text-align: left;\">0</td><td style = \"text-align: left;\">0</td><td style = \"text-align: left;\">1</td><td style = \"text-align: left;\">2</td></tr></tbody></table></div>"
      ],
      "text/latex": [
       "\\begin{tabular}{r|cccc}\n",
       "\t& 佐藤 & 山田 & 田中 & 鈴木\\\\\n",
       "\t\\hline\n",
       "\t& Any & Any & Any & Any\\\\\n",
       "\t\\hline\n",
       "\t1 & 0 & 0 & 2 & 1 \\\\\n",
       "\t2 & 2 & 1 & 0 & 0 \\\\\n",
       "\t3 & 2 & 1 & 0 & 0 \\\\\n",
       "\t4 & 1 & 2 & 0 & 0 \\\\\n",
       "\t5 & 0 & 2 & 1 & 0 \\\\\n",
       "\t6 & 0 & 0 & 1 & 2 \\\\\n",
       "\t7 & 0 & 0 & 1 & 2 \\\\\n",
       "\t8 & 0 & 0 & 1 & 2 \\\\\n",
       "\t9 & 0 & 0 & 1 & 2 \\\\\n",
       "\t10 & 0 & 0 & 1 & 2 \\\\\n",
       "\t11 & 0 & 0 & 1 & 2 \\\\\n",
       "\t12 & 0 & 0 & 1 & 2 \\\\\n",
       "\t13 & 0 & 0 & 1 & 2 \\\\\n",
       "\t14 & 0 & 0 & 1 & 2 \\\\\n",
       "\t15 & 0 & 0 & 1 & 2 \\\\\n",
       "\t16 & 0 & 0 & 1 & 2 \\\\\n",
       "\t17 & 0 & 0 & 1 & 2 \\\\\n",
       "\\end{tabular}\n"
      ],
      "text/plain": [
       "\u001b[1m17×4 DataFrame\u001b[0m\n",
       "\u001b[1m Row \u001b[0m│\u001b[1m 佐藤 \u001b[0m\u001b[1m 山田 \u001b[0m\u001b[1m 田中 \u001b[0m\u001b[1m 鈴木 \u001b[0m\n",
       "     │\u001b[90m Any  \u001b[0m\u001b[90m Any  \u001b[0m\u001b[90m Any  \u001b[0m\u001b[90m Any  \u001b[0m\n",
       "─────┼────────────────────────\n",
       "   1 │ 0     0     2     1\n",
       "   2 │ 2     1     0     0\n",
       "   3 │ 2     1     0     0\n",
       "   4 │ 1     2     0     0\n",
       "   5 │ 0     2     1     0\n",
       "   6 │ 0     0     1     2\n",
       "   7 │ 0     0     1     2\n",
       "   8 │ 0     0     1     2\n",
       "   9 │ 0     0     1     2\n",
       "  10 │ 0     0     1     2\n",
       "  11 │ 0     0     1     2\n",
       "  12 │ 0     0     1     2\n",
       "  13 │ 0     0     1     2\n",
       "  14 │ 0     0     1     2\n",
       "  15 │ 0     0     1     2\n",
       "  16 │ 0     0     1     2\n",
       "  17 │ 0     0     1     2"
      ]
     },
     "metadata": {},
     "output_type": "display_data"
    }
   ],
   "source": [
    "maketable(\"testdata.csv\", nslot = 17, narea = 2, requirenum = 1, totaltime = 15, totalswitch = 2)"
   ]
  },
  {
   "cell_type": "code",
   "execution_count": null,
   "metadata": {},
   "outputs": [],
   "source": []
  }
 ],
 "metadata": {
  "kernelspec": {
   "display_name": "Julia 1.8.3",
   "language": "julia",
   "name": "julia-1.8"
  },
  "language_info": {
   "file_extension": ".jl",
   "mimetype": "application/julia",
   "name": "julia",
   "version": "1.8.3"
  }
 },
 "nbformat": 4,
 "nbformat_minor": 2
}
