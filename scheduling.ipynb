{
 "cells": [
  {
   "cell_type": "code",
   "execution_count": 2,
   "metadata": {},
   "outputs": [],
   "source": [
    "using CSV\n",
    "using DataFrames\n",
    "using Z3\n",
    "using JuMP\n",
    "using HiGHS"
   ]
  },
  {
   "cell_type": "code",
   "execution_count": null,
   "metadata": {},
   "outputs": [],
   "source": [
    "# model = Model(HiGHS.Optimizer)\n",
    "# @variable(model, x[1:length(sv)], Bin);\n",
    "# @constraint(model, c[k=1:length(is)], sum([x[i] for i = is[k]]) >= 1);\n",
    "# @objective(model, Min, sum(x));\n",
    "# optimize!(model)\n",
    "# println(\"Optimal value: \", objective_value(model))"
   ]
  },
  {
   "cell_type": "code",
   "execution_count": 50,
   "metadata": {},
   "outputs": [
    {
     "data": {
      "text/plain": [
       "A JuMP Model\n",
       "Feasibility problem with:\n",
       "Variables: 0\n",
       "Model mode: AUTOMATIC\n",
       "CachingOptimizer state: EMPTY_OPTIMIZER\n",
       "Solver name: HiGHS"
      ]
     },
     "metadata": {},
     "output_type": "display_data"
    }
   ],
   "source": [
    "model = JuMP.Model(HiGHS.Optimizer)"
   ]
  },
  {
   "cell_type": "code",
   "execution_count": 51,
   "metadata": {},
   "outputs": [
    {
     "data": {
      "text/plain": [
       "5×10×3 Array{VariableRef, 3}:\n",
       "[:, :, 1] =\n",
       " x[1,1,1]  x[1,2,1]  x[1,3,1]  x[1,4,1]  …  x[1,8,1]  x[1,9,1]  x[1,10,1]\n",
       " x[2,1,1]  x[2,2,1]  x[2,3,1]  x[2,4,1]     x[2,8,1]  x[2,9,1]  x[2,10,1]\n",
       " x[3,1,1]  x[3,2,1]  x[3,3,1]  x[3,4,1]     x[3,8,1]  x[3,9,1]  x[3,10,1]\n",
       " x[4,1,1]  x[4,2,1]  x[4,3,1]  x[4,4,1]     x[4,8,1]  x[4,9,1]  x[4,10,1]\n",
       " x[5,1,1]  x[5,2,1]  x[5,3,1]  x[5,4,1]     x[5,8,1]  x[5,9,1]  x[5,10,1]\n",
       "\n",
       "[:, :, 2] =\n",
       " x[1,1,2]  x[1,2,2]  x[1,3,2]  x[1,4,2]  …  x[1,8,2]  x[1,9,2]  x[1,10,2]\n",
       " x[2,1,2]  x[2,2,2]  x[2,3,2]  x[2,4,2]     x[2,8,2]  x[2,9,2]  x[2,10,2]\n",
       " x[3,1,2]  x[3,2,2]  x[3,3,2]  x[3,4,2]     x[3,8,2]  x[3,9,2]  x[3,10,2]\n",
       " x[4,1,2]  x[4,2,2]  x[4,3,2]  x[4,4,2]     x[4,8,2]  x[4,9,2]  x[4,10,2]\n",
       " x[5,1,2]  x[5,2,2]  x[5,3,2]  x[5,4,2]     x[5,8,2]  x[5,9,2]  x[5,10,2]\n",
       "\n",
       "[:, :, 3] =\n",
       " x[1,1,3]  x[1,2,3]  x[1,3,3]  x[1,4,3]  …  x[1,8,3]  x[1,9,3]  x[1,10,3]\n",
       " x[2,1,3]  x[2,2,3]  x[2,3,3]  x[2,4,3]     x[2,8,3]  x[2,9,3]  x[2,10,3]\n",
       " x[3,1,3]  x[3,2,3]  x[3,3,3]  x[3,4,3]     x[3,8,3]  x[3,9,3]  x[3,10,3]\n",
       " x[4,1,3]  x[4,2,3]  x[4,3,3]  x[4,4,3]     x[4,8,3]  x[4,9,3]  x[4,10,3]\n",
       " x[5,1,3]  x[5,2,3]  x[5,3,3]  x[5,4,3]     x[5,8,3]  x[5,9,3]  x[5,10,3]"
      ]
     },
     "metadata": {},
     "output_type": "display_data"
    }
   ],
   "source": [
    "@variable(model, x[1:5,1:10,1:3], Bin)"
   ]
  },
  {
   "cell_type": "code",
   "execution_count": 54,
   "metadata": {},
   "outputs": [
    {
     "data": {
      "text/plain": [
       "5-element Vector{AffExpr}:\n",
       " x[1,1,1] + x[1,2,1] + x[1,3,1] + x[1,4,1] + x[1,5,1] + x[1,6,1] + x[1,7,1] + x[1,8,1] + x[1,9,1] + x[1,10,1] + x[1,1,2] + x[1,2,2] + x[1,3,2] + x[1,4,2] + x[1,5,2] + x[1,6,2] + x[1,7,2] + x[1,8,2] + x[1,9,2] + x[1,10,2] + x[1,1,3] + x[1,2,3] + x[1,3,3] + x[1,4,3] + x[1,5,3] + x[1,6,3] + x[1,7,3] + x[1,8,3] + x[1,9,3] + x[1,10,3]\n",
       " x[2,1,1] + x[2,2,1] + x[2,3,1] + x[2,4,1] + x[2,5,1] + x[2,6,1] + x[2,7,1] + x[2,8,1] + x[2,9,1] + x[2,10,1] + x[2,1,2] + x[2,2,2] + x[2,3,2] + x[2,4,2] + x[2,5,2] + x[2,6,2] + x[2,7,2] + x[2,8,2] + x[2,9,2] + x[2,10,2] + x[2,1,3] + x[2,2,3] + x[2,3,3] + x[2,4,3] + x[2,5,3] + x[2,6,3] + x[2,7,3] + x[2,8,3] + x[2,9,3] + x[2,10,3]\n",
       " x[3,1,1] + x[3,2,1] + x[3,3,1] + x[3,4,1] + x[3,5,1] + x[3,6,1] + x[3,7,1] + x[3,8,1] + x[3,9,1] + x[3,10,1] + x[3,1,2] + x[3,2,2] + x[3,3,2] + x[3,4,2] + x[3,5,2] + x[3,6,2] + x[3,7,2] + x[3,8,2] + x[3,9,2] + x[3,10,2] + x[3,1,3] + x[3,2,3] + x[3,3,3] + x[3,4,3] + x[3,5,3] + x[3,6,3] + x[3,7,3] + x[3,8,3] + x[3,9,3] + x[3,10,3]\n",
       " x[4,1,1] + x[4,2,1] + x[4,3,1] + x[4,4,1] + x[4,5,1] + x[4,6,1] + x[4,7,1] + x[4,8,1] + x[4,9,1] + x[4,10,1] + x[4,1,2] + x[4,2,2] + x[4,3,2] + x[4,4,2] + x[4,5,2] + x[4,6,2] + x[4,7,2] + x[4,8,2] + x[4,9,2] + x[4,10,2] + x[4,1,3] + x[4,2,3] + x[4,3,3] + x[4,4,3] + x[4,5,3] + x[4,6,3] + x[4,7,3] + x[4,8,3] + x[4,9,3] + x[4,10,3]\n",
       " x[5,1,1] + x[5,2,1] + x[5,3,1] + x[5,4,1] + x[5,5,1] + x[5,6,1] + x[5,7,1] + x[5,8,1] + x[5,9,1] + x[5,10,1] + x[5,1,2] + x[5,2,2] + x[5,3,2] + x[5,4,2] + x[5,5,2] + x[5,6,2] + x[5,7,2] + x[5,8,2] + x[5,9,2] + x[5,10,2] + x[5,1,3] + x[5,2,3] + x[5,3,3] + x[5,4,3] + x[5,5,3] + x[5,6,3] + x[5,7,3] + x[5,8,3] + x[5,9,3] + x[5,10,3]"
      ]
     },
     "metadata": {},
     "output_type": "display_data"
    }
   ],
   "source": [
    "maximum.([sum(x[i,:,:]) for i = 1:5])"
   ]
  },
  {
   "cell_type": "code",
   "execution_count": 6,
   "metadata": {},
   "outputs": [
    {
     "data": {
      "text/latex": [
       "$ x_{1} $"
      ],
      "text/plain": [
       "x[1]"
      ]
     },
     "metadata": {},
     "output_type": "display_data"
    }
   ],
   "source": [
    "x[1]"
   ]
  },
  {
   "cell_type": "code",
   "execution_count": 60,
   "metadata": {},
   "outputs": [
    {
     "name": "stdout",
     "output_type": "stream",
     "text": [
      "[(3, \"山田\"), (4, \"田中\"), (5, \"鈴木\"), (6, \"佐藤\")]\n"
     ]
    }
   ],
   "source": [
    "nslot = 17 # 時間帯割り当て\n",
    "narea = 2 # エリア数\n",
    "requirenum = 1 # 必要人数\n",
    "totaltime = 10 # 最大割り当て時間（スロット数）\n",
    "totalswitch = 2 # 最大切り替え数\n",
    "csvfile = \"testdata.csv\"\n",
    "\n",
    "model = JuMP.Model(HiGHS.Optimizer)\n",
    "\n",
    "df = CSV.read(csvfile, DataFrame)\n",
    "nms = [(i,x) for (i,x) = enumerate(names(df)) if x != \"start\" && x != \"end\"] # 名前取得\n",
    "println(nms)\n",
    "\n",
    "y = zeros(Int, length(nms), nslot)\n",
    "for (i,(k,nm)) = enumerate(nms)\n",
    "    for t = 1:nslot\n",
    "        if ismissing(df[t,k])\n",
    "            y[i,t] = 1 # 無記入は「可能」\n",
    "        else\n",
    "            y[i,t] = df[t,k]\n",
    "        end\n",
    "    end\n",
    "end\n",
    "\n",
    "@variable(model, x[1:length(nms),1:nslot,1:narea], Bin)\n",
    "\n",
    "for i = size(y)[1]\n",
    "    for t = 1:nslot\n",
    "        @constraint(model, sum(x[i,t,:]) <= y[i,t]) # 可能時間帯に高々一つの割り当て\n",
    "    end\n",
    "end\n",
    "\n",
    "for t = 1:nslot\n",
    "    for k = 1:narea\n",
    "        @constraint(model, sum(x[:,t,k]) >= requirenum) # 各時間帯で必要人数確保\n",
    "    end\n",
    "end\n",
    "\n",
    "for i = size(y)[1]\n",
    "    @constraint(model, sum(x[i,:,:]) <= totaltime) # 労働時間制限\n",
    "end\n",
    "\n",
    "# op = []\n",
    "# for i = size(y)[1]\n",
    "#     for k = 1:narea\n",
    "#         tmp = x[i,1,k]\n",
    "#         for t = 2:nslot\n",
    "#             tmp += (x[i,t,k] - x[i,t-1,k]) * (x[i,t,k] - x[i,t-1,k])\n",
    "#         end\n",
    "#         push!(op, tmp)\n",
    "#         # @constraint(model, tmp <= totalswitch)\n",
    "#     end\n",
    "# end\n",
    "\n",
    "# for (nm,xs) = area\n",
    "#     for k = 1:narea\n",
    "#         tmp = Z3.int_val(ctx, 0)\n",
    "#         for t = 1:nslot\n",
    "#             if t == 1\n",
    "#                 tmp += xs[t][k]\n",
    "#             else\n",
    "#                 tmp += abs(xs[t][k] - xs[t-1][k])\n",
    "#             end\n",
    "#         end\n",
    "#         push!(cons, tmp <= totalswitch) # 場所替え数制約\n",
    "#     end\n",
    "# end\n",
    "\n",
    "@objective(model, Min, sum(op));\n"
   ]
  },
  {
   "cell_type": "code",
   "execution_count": 61,
   "metadata": {},
   "outputs": [
    {
     "name": "stdout",
     "output_type": "stream",
     "text": [
      "Running HiGHS 1.6.0: Copyright (c) 2023 HiGHS under MIT licence terms\n",
      "ERROR:   Cannot solve MIQP problems with HiGHS\n",
      "Optimal value: 0.0\n"
     ]
    }
   ],
   "source": [
    "optimize!(model)\n",
    "println(\"Optimal value: \", objective_value(model))"
   ]
  },
  {
   "cell_type": "code",
   "execution_count": 62,
   "metadata": {},
   "outputs": [
    {
     "data": {
      "text/plain": [
       "4×17×2 Array{Int64, 3}:\n",
       "[:, :, 1] =\n",
       " 0  0  0  0  0  0  0  0  0  0  0  0  0  0  0  0  0\n",
       " 0  0  0  0  0  0  0  0  0  0  0  0  0  0  0  0  0\n",
       " 0  0  0  0  0  0  0  0  0  0  0  0  0  0  0  0  0\n",
       " 0  0  0  0  0  0  0  0  0  0  0  0  0  0  0  0  0\n",
       "\n",
       "[:, :, 2] =\n",
       " 0  0  0  0  0  0  0  0  0  0  0  0  0  0  0  0  0\n",
       " 0  0  0  0  0  0  0  0  0  0  0  0  0  0  0  0  0\n",
       " 0  0  0  0  0  0  0  0  0  0  0  0  0  0  0  0  0\n",
       " 0  0  0  0  0  0  0  0  0  0  0  0  0  0  0  0  0"
      ]
     },
     "metadata": {},
     "output_type": "display_data"
    }
   ],
   "source": [
    "Int.(JuMP.value.(x))"
   ]
  },
  {
   "cell_type": "code",
   "execution_count": null,
   "metadata": {},
   "outputs": [],
   "source": [
    "\"\"\"\n",
    "nslot = 17 # 時間帯割り当て\n",
    "narea = 2 # エリア数\n",
    "requirenum = 1 # 必要人数\n",
    "totaltime = 15 # 最大割り当て時間（スロット数）\n",
    "totalswitch = 2 # 最大切り替え数\n",
    "\"\"\"\n",
    "\n",
    "function maketable(csvfile ;nslot = 17, narea = 2, requirenum = 1, totaltime = 15, totalswitch = 2)\n",
    "    model = Model(HiGHS.Optimizer)\n",
    "\n",
    "    df = CSV.read(csvfile, DataFrame)\n",
    "    nms = [(i,x) for (i,x) = enumerate(names(df)) if x != \"start\" && x != \"end\"] # 名前取得\n",
    "    println(nms)\n",
    "\n",
    "    y = zeros(Int, 1:length(nms), 1:nslot)\n",
    "    for (i,(k,nm)) = enumerate(nms)\n",
    "        for t = 1:nslot\n",
    "            if ismissing(df[t,k])\n",
    "                y[i,t] = 1\n",
    "            else\n",
    "                y[i,t] = df[t,k]\n",
    "            end\n",
    "        end\n",
    "    end\n",
    "\n",
    "    @variable(model, x[1:length(nms),1:nslot,1:narea], Bin)\n",
    "\n",
    "    for (i,nm) = nms\n",
    "        tmparea = []\n",
    "        for t = 1:nslot\n",
    "            @constraint(model, c[], sum(x[i,t,:]) <= df[t,i]);\n",
    "            # x = Z3.int_const(ctx, \"var$(i)_$(t)\")\n",
    "            # f = [Z3.int_const(ctx, \"area$(k)_$(i-2)_$(t)\") for k = 1:narea] # 2 はオフセットフォーマットに合わせる必要あり\n",
    "            push!(tmparea, f)\n",
    "            for v = f\n",
    "                push!(cons, v >= 0) # 割り当て変数非負条件\n",
    "            end\n",
    "            push!(cons, sum(f) <= x) # 可能時間帯に高々一つの割り当て\n",
    "            if ismissing(df[t,i])\n",
    "                push!(cons, x == 1) # 無記入は「可能」\n",
    "            else\n",
    "                push!(cons, x == Int(df[t,i])) # 可能な時間帯の指定\n",
    "            end\n",
    "        end\n",
    "        area[nm] = tmparea\n",
    "    end\n",
    "\n",
    "    for t = 1:nslot\n",
    "        for k = 1:narea\n",
    "            tmp = Z3.int_val(ctx, 0)\n",
    "            for (_,xs) = area\n",
    "                tmp += xs[t][k]\n",
    "            end\n",
    "            push!(cons, tmp == requirenum) # 各時間帯で必要人数確保\n",
    "        end\n",
    "    end\n",
    "\n",
    "    for (nm,xs) = area\n",
    "        tmp = Z3.int_val(ctx, 0)\n",
    "        for x = xs\n",
    "            tmp += sum(x)\n",
    "        end\n",
    "        push!(cons, tmp <= totaltime) # 労働時間制限\n",
    "    end\n",
    "\n",
    "    for (nm,xs) = area\n",
    "        for k = 1:narea\n",
    "            tmp = Z3.int_val(ctx, 0)\n",
    "            for t = 1:nslot\n",
    "                if t == 1\n",
    "                    tmp += xs[t][k]\n",
    "                else\n",
    "                    tmp += abs(xs[t][k] - xs[t-1][k])\n",
    "                end\n",
    "            end\n",
    "            push!(cons, tmp <= totalswitch) # 場所替え数制約\n",
    "        end\n",
    "    end\n",
    "\n",
    "    solver = Z3.Solver(ctx)\n",
    "    for x = cons\n",
    "        add(solver, x)\n",
    "    end\n",
    "\n",
    "    res = Z3.check(solver)\n",
    "    if res == Z3.sat\n",
    "        m = Z3.get_model(solver)\n",
    "        result = Dict([\"$k\"=>Z3.get_numeral_int(v) for (k,v) = Z3.consts(m)])\n",
    "    else\n",
    "        error(\"No solution\")\n",
    "    end\n",
    "\n",
    "    table = Dict()\n",
    "    for (i,nm) = enumerate(keys(area))\n",
    "        tmp = []\n",
    "        for t = 1:nslot\n",
    "            u = [result[\"area$(k)_$(i)_$(t)\"] for k = 1:narea]\n",
    "            res = findfirst(x->x==1, u)\n",
    "            if isnothing(res)\n",
    "                push!(tmp, 0)\n",
    "            else\n",
    "                push!(tmp, res)\n",
    "            end\n",
    "        end\n",
    "        table[nm] = tmp\n",
    "    end\n",
    "    DataFrame(table)\n",
    "end"
   ]
  },
  {
   "cell_type": "code",
   "execution_count": 2,
   "metadata": {},
   "outputs": [
    {
     "data": {
      "text/plain": [
       "maketable (generic function with 1 method)"
      ]
     },
     "metadata": {},
     "output_type": "display_data"
    }
   ],
   "source": [
    "\"\"\"\n",
    "nslot = 17 # 時間帯割り当て\n",
    "narea = 2 # エリア数\n",
    "requirenum = 1 # 必要人数\n",
    "totaltime = 15 # 最大割り当て時間（スロット数）\n",
    "totalswitch = 2 # 最大切り替え数\n",
    "\"\"\"\n",
    "\n",
    "function maketable(csvfile ;nslot = 17, narea = 2, requirenum = 1, totaltime = 15, totalswitch = 2)\n",
    "    ctx = Z3.Context()\n",
    "\n",
    "    cons = []\n",
    "    area = Dict()\n",
    "\n",
    "    df = CSV.read(csvfile, DataFrame)\n",
    "\n",
    "    nms = [(i,x) for (i,x) = enumerate(names(df)) if x != \"start\" && x != \"end\"] # 名前取得\n",
    "    println(nms)\n",
    "\n",
    "    for (i,nm) = nms\n",
    "        tmparea = []\n",
    "        for t = 1:nslot\n",
    "            x = Z3.int_const(ctx, \"var$(i)_$(t)\")\n",
    "            f = [Z3.int_const(ctx, \"area$(k)_$(i-2)_$(t)\") for k = 1:narea] # 2 はオフセットフォーマットに合わせる必要あり\n",
    "            push!(tmparea, f)\n",
    "            for v = f\n",
    "                push!(cons, v >= 0) # 割り当て変数非負条件\n",
    "            end\n",
    "            push!(cons, sum(f) <= x) # 可能時間帯に高々一つの割り当て\n",
    "            if ismissing(df[t,i])\n",
    "                push!(cons, x == 1) # 無記入は「可能」\n",
    "            else\n",
    "                push!(cons, x == Int(df[t,i])) # 可能な時間帯の指定\n",
    "            end\n",
    "        end\n",
    "        area[nm] = tmparea\n",
    "    end\n",
    "\n",
    "    for t = 1:nslot\n",
    "        for k = 1:narea\n",
    "            tmp = Z3.int_val(ctx, 0)\n",
    "            for (_,xs) = area\n",
    "                tmp += xs[t][k]\n",
    "            end\n",
    "            push!(cons, tmp == requirenum) # 各時間帯で必要人数確保\n",
    "        end\n",
    "    end\n",
    "\n",
    "    for (nm,xs) = area\n",
    "        tmp = Z3.int_val(ctx, 0)\n",
    "        for x = xs\n",
    "            tmp += sum(x)\n",
    "        end\n",
    "        push!(cons, tmp <= totaltime) # 労働時間制限\n",
    "    end\n",
    "\n",
    "    for (nm,xs) = area\n",
    "        for k = 1:narea\n",
    "            tmp = Z3.int_val(ctx, 0)\n",
    "            for t = 1:nslot\n",
    "                if t == 1\n",
    "                    tmp += xs[t][k]\n",
    "                else\n",
    "                    tmp += abs(xs[t][k] - xs[t-1][k])\n",
    "                end\n",
    "            end\n",
    "            push!(cons, tmp <= totalswitch) # 場所替え数制約\n",
    "        end\n",
    "    end\n",
    "\n",
    "    solver = Z3.Solver(ctx)\n",
    "    for x = cons\n",
    "        add(solver, x)\n",
    "    end\n",
    "\n",
    "    res = Z3.check(solver)\n",
    "    if res == Z3.sat\n",
    "        m = Z3.get_model(solver)\n",
    "        result = Dict([\"$k\"=>Z3.get_numeral_int(v) for (k,v) = Z3.consts(m)])\n",
    "    else\n",
    "        error(\"No solution\")\n",
    "    end\n",
    "\n",
    "    table = Dict()\n",
    "    for (i,nm) = enumerate(keys(area))\n",
    "        tmp = []\n",
    "        for t = 1:nslot\n",
    "            u = [result[\"area$(k)_$(i)_$(t)\"] for k = 1:narea]\n",
    "            res = findfirst(x->x==1, u)\n",
    "            if isnothing(res)\n",
    "                push!(tmp, 0)\n",
    "            else\n",
    "                push!(tmp, res)\n",
    "            end\n",
    "        end\n",
    "        table[nm] = tmp\n",
    "    end\n",
    "    DataFrame(table)\n",
    "end"
   ]
  },
  {
   "cell_type": "code",
   "execution_count": 7,
   "metadata": {},
   "outputs": [
    {
     "name": "stdout",
     "output_type": "stream",
     "text": [
      "[(3, \"山田\"), (4, \"田中\"), (5, \"鈴木\"), (6, \"佐藤\")]\n"
     ]
    },
    {
     "data": {
      "text/html": [
       "<div><div style = \"float: left;\"><span>17×4 DataFrame</span></div><div style = \"clear: both;\"></div></div><div class = \"data-frame\" style = \"overflow-x: scroll;\"><table class = \"data-frame\" style = \"margin-bottom: 6px;\"><thead><tr class = \"header\"><th class = \"rowNumber\" style = \"font-weight: bold; text-align: right;\">Row</th><th style = \"text-align: left;\">佐藤</th><th style = \"text-align: left;\">山田</th><th style = \"text-align: left;\">田中</th><th style = \"text-align: left;\">鈴木</th></tr><tr class = \"subheader headerLastRow\"><th class = \"rowNumber\" style = \"font-weight: bold; text-align: right;\"></th><th title = \"Any\" style = \"text-align: left;\">Any</th><th title = \"Any\" style = \"text-align: left;\">Any</th><th title = \"Any\" style = \"text-align: left;\">Any</th><th title = \"Any\" style = \"text-align: left;\">Any</th></tr></thead><tbody><tr><td class = \"rowNumber\" style = \"font-weight: bold; text-align: right;\">1</td><td style = \"text-align: left;\">0</td><td style = \"text-align: left;\">1</td><td style = \"text-align: left;\">2</td><td style = \"text-align: left;\">0</td></tr><tr><td class = \"rowNumber\" style = \"font-weight: bold; text-align: right;\">2</td><td style = \"text-align: left;\">2</td><td style = \"text-align: left;\">1</td><td style = \"text-align: left;\">0</td><td style = \"text-align: left;\">0</td></tr><tr><td class = \"rowNumber\" style = \"font-weight: bold; text-align: right;\">3</td><td style = \"text-align: left;\">1</td><td style = \"text-align: left;\">2</td><td style = \"text-align: left;\">0</td><td style = \"text-align: left;\">0</td></tr><tr><td class = \"rowNumber\" style = \"font-weight: bold; text-align: right;\">4</td><td style = \"text-align: left;\">1</td><td style = \"text-align: left;\">2</td><td style = \"text-align: left;\">0</td><td style = \"text-align: left;\">0</td></tr><tr><td class = \"rowNumber\" style = \"font-weight: bold; text-align: right;\">5</td><td style = \"text-align: left;\">1</td><td style = \"text-align: left;\">0</td><td style = \"text-align: left;\">0</td><td style = \"text-align: left;\">2</td></tr><tr><td class = \"rowNumber\" style = \"font-weight: bold; text-align: right;\">6</td><td style = \"text-align: left;\">0</td><td style = \"text-align: left;\">0</td><td style = \"text-align: left;\">1</td><td style = \"text-align: left;\">2</td></tr><tr><td class = \"rowNumber\" style = \"font-weight: bold; text-align: right;\">7</td><td style = \"text-align: left;\">0</td><td style = \"text-align: left;\">0</td><td style = \"text-align: left;\">1</td><td style = \"text-align: left;\">2</td></tr><tr><td class = \"rowNumber\" style = \"font-weight: bold; text-align: right;\">8</td><td style = \"text-align: left;\">0</td><td style = \"text-align: left;\">0</td><td style = \"text-align: left;\">1</td><td style = \"text-align: left;\">2</td></tr><tr><td class = \"rowNumber\" style = \"font-weight: bold; text-align: right;\">9</td><td style = \"text-align: left;\">0</td><td style = \"text-align: left;\">0</td><td style = \"text-align: left;\">1</td><td style = \"text-align: left;\">2</td></tr><tr><td class = \"rowNumber\" style = \"font-weight: bold; text-align: right;\">10</td><td style = \"text-align: left;\">0</td><td style = \"text-align: left;\">0</td><td style = \"text-align: left;\">1</td><td style = \"text-align: left;\">2</td></tr><tr><td class = \"rowNumber\" style = \"font-weight: bold; text-align: right;\">11</td><td style = \"text-align: left;\">0</td><td style = \"text-align: left;\">0</td><td style = \"text-align: left;\">1</td><td style = \"text-align: left;\">2</td></tr><tr><td class = \"rowNumber\" style = \"font-weight: bold; text-align: right;\">12</td><td style = \"text-align: left;\">0</td><td style = \"text-align: left;\">0</td><td style = \"text-align: left;\">1</td><td style = \"text-align: left;\">2</td></tr><tr><td class = \"rowNumber\" style = \"font-weight: bold; text-align: right;\">13</td><td style = \"text-align: left;\">0</td><td style = \"text-align: left;\">0</td><td style = \"text-align: left;\">1</td><td style = \"text-align: left;\">2</td></tr><tr><td class = \"rowNumber\" style = \"font-weight: bold; text-align: right;\">14</td><td style = \"text-align: left;\">0</td><td style = \"text-align: left;\">0</td><td style = \"text-align: left;\">1</td><td style = \"text-align: left;\">2</td></tr><tr><td class = \"rowNumber\" style = \"font-weight: bold; text-align: right;\">15</td><td style = \"text-align: left;\">0</td><td style = \"text-align: left;\">0</td><td style = \"text-align: left;\">1</td><td style = \"text-align: left;\">2</td></tr><tr><td class = \"rowNumber\" style = \"font-weight: bold; text-align: right;\">16</td><td style = \"text-align: left;\">0</td><td style = \"text-align: left;\">0</td><td style = \"text-align: left;\">1</td><td style = \"text-align: left;\">2</td></tr><tr><td class = \"rowNumber\" style = \"font-weight: bold; text-align: right;\">17</td><td style = \"text-align: left;\">0</td><td style = \"text-align: left;\">0</td><td style = \"text-align: left;\">1</td><td style = \"text-align: left;\">2</td></tr></tbody></table></div>"
      ],
      "text/latex": [
       "\\begin{tabular}{r|cccc}\n",
       "\t& 佐藤 & 山田 & 田中 & 鈴木\\\\\n",
       "\t\\hline\n",
       "\t& Any & Any & Any & Any\\\\\n",
       "\t\\hline\n",
       "\t1 & 0 & 1 & 2 & 0 \\\\\n",
       "\t2 & 2 & 1 & 0 & 0 \\\\\n",
       "\t3 & 1 & 2 & 0 & 0 \\\\\n",
       "\t4 & 1 & 2 & 0 & 0 \\\\\n",
       "\t5 & 1 & 0 & 0 & 2 \\\\\n",
       "\t6 & 0 & 0 & 1 & 2 \\\\\n",
       "\t7 & 0 & 0 & 1 & 2 \\\\\n",
       "\t8 & 0 & 0 & 1 & 2 \\\\\n",
       "\t9 & 0 & 0 & 1 & 2 \\\\\n",
       "\t10 & 0 & 0 & 1 & 2 \\\\\n",
       "\t11 & 0 & 0 & 1 & 2 \\\\\n",
       "\t12 & 0 & 0 & 1 & 2 \\\\\n",
       "\t13 & 0 & 0 & 1 & 2 \\\\\n",
       "\t14 & 0 & 0 & 1 & 2 \\\\\n",
       "\t15 & 0 & 0 & 1 & 2 \\\\\n",
       "\t16 & 0 & 0 & 1 & 2 \\\\\n",
       "\t17 & 0 & 0 & 1 & 2 \\\\\n",
       "\\end{tabular}\n"
      ],
      "text/plain": [
       "\u001b[1m17×4 DataFrame\u001b[0m\n",
       "\u001b[1m Row \u001b[0m│\u001b[1m 佐藤 \u001b[0m\u001b[1m 山田 \u001b[0m\u001b[1m 田中 \u001b[0m\u001b[1m 鈴木 \u001b[0m\n",
       "     │\u001b[90m Any  \u001b[0m\u001b[90m Any  \u001b[0m\u001b[90m Any  \u001b[0m\u001b[90m Any  \u001b[0m\n",
       "─────┼────────────────────────\n",
       "   1 │ 0     1     2     0\n",
       "   2 │ 2     1     0     0\n",
       "   3 │ 1     2     0     0\n",
       "   4 │ 1     2     0     0\n",
       "   5 │ 1     0     0     2\n",
       "   6 │ 0     0     1     2\n",
       "   7 │ 0     0     1     2\n",
       "   8 │ 0     0     1     2\n",
       "   9 │ 0     0     1     2\n",
       "  10 │ 0     0     1     2\n",
       "  11 │ 0     0     1     2\n",
       "  12 │ 0     0     1     2\n",
       "  13 │ 0     0     1     2\n",
       "  14 │ 0     0     1     2\n",
       "  15 │ 0     0     1     2\n",
       "  16 │ 0     0     1     2\n",
       "  17 │ 0     0     1     2"
      ]
     },
     "metadata": {},
     "output_type": "display_data"
    }
   ],
   "source": [
    "maketable(\"testdata.csv\", nslot = 17, narea = 2, requirenum = 1, totaltime = 13, totalswitch = 2)"
   ]
  },
  {
   "cell_type": "code",
   "execution_count": 20,
   "metadata": {},
   "outputs": [
    {
     "ename": "UndefVarError",
     "evalue": "UndefVarError: df not defined",
     "output_type": "error",
     "traceback": [
      "UndefVarError: df not defined\n"
     ]
    }
   ],
   "source": [
    "df"
   ]
  },
  {
   "cell_type": "code",
   "execution_count": 21,
   "metadata": {},
   "outputs": [
    {
     "data": {
      "text/html": [
       "<div><div style = \"float: left;\"><span>17×6 DataFrame</span></div><div style = \"clear: both;\"></div></div><div class = \"data-frame\" style = \"overflow-x: scroll;\"><table class = \"data-frame\" style = \"margin-bottom: 6px;\"><thead><tr class = \"header\"><th class = \"rowNumber\" style = \"font-weight: bold; text-align: right;\">Row</th><th style = \"text-align: left;\">start</th><th style = \"text-align: left;\">end</th><th style = \"text-align: left;\">山田</th><th style = \"text-align: left;\">田中</th><th style = \"text-align: left;\">鈴木</th><th style = \"text-align: left;\">佐藤</th></tr><tr class = \"subheader headerLastRow\"><th class = \"rowNumber\" style = \"font-weight: bold; text-align: right;\"></th><th title = \"Dates.Time\" style = \"text-align: left;\">Time</th><th title = \"Dates.Time\" style = \"text-align: left;\">Time</th><th title = \"Missing\" style = \"text-align: left;\">Missing</th><th title = \"Int64\" style = \"text-align: left;\">Int64</th><th title = \"Int64\" style = \"text-align: left;\">Int64</th><th title = \"Int64\" style = \"text-align: left;\">Int64</th></tr></thead><tbody><tr><td class = \"rowNumber\" style = \"font-weight: bold; text-align: right;\">1</td><td style = \"text-align: left;\">08:00:00</td><td style = \"text-align: left;\">08:10:00</td><td style = \"font-style: italic; text-align: right;\">missing</td><td style = \"text-align: right;\">0</td><td style = \"text-align: right;\">1</td><td style = \"text-align: right;\">1</td></tr><tr><td class = \"rowNumber\" style = \"font-weight: bold; text-align: right;\">2</td><td style = \"text-align: left;\">08:10:00</td><td style = \"text-align: left;\">08:20:00</td><td style = \"font-style: italic; text-align: right;\">missing</td><td style = \"text-align: right;\">1</td><td style = \"text-align: right;\">1</td><td style = \"text-align: right;\">1</td></tr><tr><td class = \"rowNumber\" style = \"font-weight: bold; text-align: right;\">3</td><td style = \"text-align: left;\">08:20:00</td><td style = \"text-align: left;\">08:30:00</td><td style = \"font-style: italic; text-align: right;\">missing</td><td style = \"text-align: right;\">1</td><td style = \"text-align: right;\">1</td><td style = \"text-align: right;\">1</td></tr><tr><td class = \"rowNumber\" style = \"font-weight: bold; text-align: right;\">4</td><td style = \"text-align: left;\">08:30:00</td><td style = \"text-align: left;\">08:40:00</td><td style = \"font-style: italic; text-align: right;\">missing</td><td style = \"text-align: right;\">1</td><td style = \"text-align: right;\">1</td><td style = \"text-align: right;\">1</td></tr><tr><td class = \"rowNumber\" style = \"font-weight: bold; text-align: right;\">5</td><td style = \"text-align: left;\">08:40:00</td><td style = \"text-align: left;\">08:50:00</td><td style = \"font-style: italic; text-align: right;\">missing</td><td style = \"text-align: right;\">1</td><td style = \"text-align: right;\">1</td><td style = \"text-align: right;\">1</td></tr><tr><td class = \"rowNumber\" style = \"font-weight: bold; text-align: right;\">6</td><td style = \"text-align: left;\">08:50:00</td><td style = \"text-align: left;\">09:00:00</td><td style = \"font-style: italic; text-align: right;\">missing</td><td style = \"text-align: right;\">0</td><td style = \"text-align: right;\">1</td><td style = \"text-align: right;\">0</td></tr><tr><td class = \"rowNumber\" style = \"font-weight: bold; text-align: right;\">7</td><td style = \"text-align: left;\">09:00:00</td><td style = \"text-align: left;\">09:10:00</td><td style = \"font-style: italic; text-align: right;\">missing</td><td style = \"text-align: right;\">0</td><td style = \"text-align: right;\">1</td><td style = \"text-align: right;\">0</td></tr><tr><td class = \"rowNumber\" style = \"font-weight: bold; text-align: right;\">8</td><td style = \"text-align: left;\">09:10:00</td><td style = \"text-align: left;\">09:20:00</td><td style = \"font-style: italic; text-align: right;\">missing</td><td style = \"text-align: right;\">0</td><td style = \"text-align: right;\">1</td><td style = \"text-align: right;\">0</td></tr><tr><td class = \"rowNumber\" style = \"font-weight: bold; text-align: right;\">9</td><td style = \"text-align: left;\">09:20:00</td><td style = \"text-align: left;\">09:30:00</td><td style = \"font-style: italic; text-align: right;\">missing</td><td style = \"text-align: right;\">0</td><td style = \"text-align: right;\">1</td><td style = \"text-align: right;\">0</td></tr><tr><td class = \"rowNumber\" style = \"font-weight: bold; text-align: right;\">10</td><td style = \"text-align: left;\">09:30:00</td><td style = \"text-align: left;\">09:40:00</td><td style = \"font-style: italic; text-align: right;\">missing</td><td style = \"text-align: right;\">0</td><td style = \"text-align: right;\">1</td><td style = \"text-align: right;\">0</td></tr><tr><td class = \"rowNumber\" style = \"font-weight: bold; text-align: right;\">11</td><td style = \"text-align: left;\">09:40:00</td><td style = \"text-align: left;\">09:50:00</td><td style = \"font-style: italic; text-align: right;\">missing</td><td style = \"text-align: right;\">0</td><td style = \"text-align: right;\">1</td><td style = \"text-align: right;\">0</td></tr><tr><td class = \"rowNumber\" style = \"font-weight: bold; text-align: right;\">12</td><td style = \"text-align: left;\">09:50:00</td><td style = \"text-align: left;\">10:00:00</td><td style = \"font-style: italic; text-align: right;\">missing</td><td style = \"text-align: right;\">0</td><td style = \"text-align: right;\">1</td><td style = \"text-align: right;\">0</td></tr><tr><td class = \"rowNumber\" style = \"font-weight: bold; text-align: right;\">13</td><td style = \"text-align: left;\">10:00:00</td><td style = \"text-align: left;\">10:10:00</td><td style = \"font-style: italic; text-align: right;\">missing</td><td style = \"text-align: right;\">0</td><td style = \"text-align: right;\">1</td><td style = \"text-align: right;\">0</td></tr><tr><td class = \"rowNumber\" style = \"font-weight: bold; text-align: right;\">14</td><td style = \"text-align: left;\">10:10:00</td><td style = \"text-align: left;\">10:20:00</td><td style = \"font-style: italic; text-align: right;\">missing</td><td style = \"text-align: right;\">0</td><td style = \"text-align: right;\">1</td><td style = \"text-align: right;\">0</td></tr><tr><td class = \"rowNumber\" style = \"font-weight: bold; text-align: right;\">15</td><td style = \"text-align: left;\">10:20:00</td><td style = \"text-align: left;\">10:30:00</td><td style = \"font-style: italic; text-align: right;\">missing</td><td style = \"text-align: right;\">0</td><td style = \"text-align: right;\">1</td><td style = \"text-align: right;\">0</td></tr><tr><td class = \"rowNumber\" style = \"font-weight: bold; text-align: right;\">16</td><td style = \"text-align: left;\">10:30:00</td><td style = \"text-align: left;\">10:40:00</td><td style = \"font-style: italic; text-align: right;\">missing</td><td style = \"text-align: right;\">0</td><td style = \"text-align: right;\">1</td><td style = \"text-align: right;\">0</td></tr><tr><td class = \"rowNumber\" style = \"font-weight: bold; text-align: right;\">17</td><td style = \"text-align: left;\">10:40:00</td><td style = \"text-align: left;\">10:50:00</td><td style = \"font-style: italic; text-align: right;\">missing</td><td style = \"text-align: right;\">0</td><td style = \"text-align: right;\">1</td><td style = \"text-align: right;\">0</td></tr></tbody></table></div>"
      ],
      "text/latex": [
       "\\begin{tabular}{r|cccccc}\n",
       "\t& start & end & 山田 & 田中 & 鈴木 & 佐藤\\\\\n",
       "\t\\hline\n",
       "\t& Time & Time & Missing & Int64 & Int64 & Int64\\\\\n",
       "\t\\hline\n",
       "\t1 & 08:00:00 & 08:10:00 & \\emph{missing} & 0 & 1 & 1 \\\\\n",
       "\t2 & 08:10:00 & 08:20:00 & \\emph{missing} & 1 & 1 & 1 \\\\\n",
       "\t3 & 08:20:00 & 08:30:00 & \\emph{missing} & 1 & 1 & 1 \\\\\n",
       "\t4 & 08:30:00 & 08:40:00 & \\emph{missing} & 1 & 1 & 1 \\\\\n",
       "\t5 & 08:40:00 & 08:50:00 & \\emph{missing} & 1 & 1 & 1 \\\\\n",
       "\t6 & 08:50:00 & 09:00:00 & \\emph{missing} & 0 & 1 & 0 \\\\\n",
       "\t7 & 09:00:00 & 09:10:00 & \\emph{missing} & 0 & 1 & 0 \\\\\n",
       "\t8 & 09:10:00 & 09:20:00 & \\emph{missing} & 0 & 1 & 0 \\\\\n",
       "\t9 & 09:20:00 & 09:30:00 & \\emph{missing} & 0 & 1 & 0 \\\\\n",
       "\t10 & 09:30:00 & 09:40:00 & \\emph{missing} & 0 & 1 & 0 \\\\\n",
       "\t11 & 09:40:00 & 09:50:00 & \\emph{missing} & 0 & 1 & 0 \\\\\n",
       "\t12 & 09:50:00 & 10:00:00 & \\emph{missing} & 0 & 1 & 0 \\\\\n",
       "\t13 & 10:00:00 & 10:10:00 & \\emph{missing} & 0 & 1 & 0 \\\\\n",
       "\t14 & 10:10:00 & 10:20:00 & \\emph{missing} & 0 & 1 & 0 \\\\\n",
       "\t15 & 10:20:00 & 10:30:00 & \\emph{missing} & 0 & 1 & 0 \\\\\n",
       "\t16 & 10:30:00 & 10:40:00 & \\emph{missing} & 0 & 1 & 0 \\\\\n",
       "\t17 & 10:40:00 & 10:50:00 & \\emph{missing} & 0 & 1 & 0 \\\\\n",
       "\\end{tabular}\n"
      ],
      "text/plain": [
       "\u001b[1m17×6 DataFrame\u001b[0m\n",
       "\u001b[1m Row \u001b[0m│\u001b[1m start    \u001b[0m\u001b[1m end      \u001b[0m\u001b[1m 山田    \u001b[0m\u001b[1m 田中  \u001b[0m\u001b[1m 鈴木  \u001b[0m\u001b[1m 佐藤  \u001b[0m\n",
       "     │\u001b[90m Time     \u001b[0m\u001b[90m Time     \u001b[0m\u001b[90m Missing \u001b[0m\u001b[90m Int64 \u001b[0m\u001b[90m Int64 \u001b[0m\u001b[90m Int64 \u001b[0m\n",
       "─────┼──────────────────────────────────────────────────\n",
       "   1 │ 08:00:00  08:10:00 \u001b[90m missing \u001b[0m     0      1      1\n",
       "   2 │ 08:10:00  08:20:00 \u001b[90m missing \u001b[0m     1      1      1\n",
       "   3 │ 08:20:00  08:30:00 \u001b[90m missing \u001b[0m     1      1      1\n",
       "   4 │ 08:30:00  08:40:00 \u001b[90m missing \u001b[0m     1      1      1\n",
       "   5 │ 08:40:00  08:50:00 \u001b[90m missing \u001b[0m     1      1      1\n",
       "   6 │ 08:50:00  09:00:00 \u001b[90m missing \u001b[0m     0      1      0\n",
       "   7 │ 09:00:00  09:10:00 \u001b[90m missing \u001b[0m     0      1      0\n",
       "   8 │ 09:10:00  09:20:00 \u001b[90m missing \u001b[0m     0      1      0\n",
       "   9 │ 09:20:00  09:30:00 \u001b[90m missing \u001b[0m     0      1      0\n",
       "  10 │ 09:30:00  09:40:00 \u001b[90m missing \u001b[0m     0      1      0\n",
       "  11 │ 09:40:00  09:50:00 \u001b[90m missing \u001b[0m     0      1      0\n",
       "  12 │ 09:50:00  10:00:00 \u001b[90m missing \u001b[0m     0      1      0\n",
       "  13 │ 10:00:00  10:10:00 \u001b[90m missing \u001b[0m     0      1      0\n",
       "  14 │ 10:10:00  10:20:00 \u001b[90m missing \u001b[0m     0      1      0\n",
       "  15 │ 10:20:00  10:30:00 \u001b[90m missing \u001b[0m     0      1      0\n",
       "  16 │ 10:30:00  10:40:00 \u001b[90m missing \u001b[0m     0      1      0\n",
       "  17 │ 10:40:00  10:50:00 \u001b[90m missing \u001b[0m     0      1      0"
      ]
     },
     "metadata": {},
     "output_type": "display_data"
    }
   ],
   "source": [
    "df = CSV.read(\"testdata.csv\", DataFrame)"
   ]
  },
  {
   "cell_type": "code",
   "execution_count": 24,
   "metadata": {},
   "outputs": [
    {
     "ename": "ArgumentError",
     "evalue": "ArgumentError: syntax df[column] is not supported use df[!, column] instead",
     "output_type": "error",
     "traceback": [
      "ArgumentError: syntax df[column] is not supported use df[!, column] instead\n",
      "\n",
      "Stacktrace:\n",
      " [1] getindex(#unused#::DataFrame, #unused#::String)\n",
      "   @ DataFrames ~/.julia/packages/DataFrames/58MUJ/src/abstractdataframe/abstractdataframe.jl:2480\n",
      " [2] top-level scope\n",
      "   @ /workspaces/scheduling_sample/scheduling.ipynb:1"
     ]
    }
   ],
   "source": [
    "df[\"山田\"]"
   ]
  },
  {
   "cell_type": "code",
   "execution_count": null,
   "metadata": {},
   "outputs": [],
   "source": []
  }
 ],
 "metadata": {
  "kernelspec": {
   "display_name": "Julia 1.8.3",
   "language": "julia",
   "name": "julia-1.8"
  },
  "language_info": {
   "file_extension": ".jl",
   "mimetype": "application/julia",
   "name": "julia",
   "version": "1.8.3"
  }
 },
 "nbformat": 4,
 "nbformat_minor": 2
}
